{
 "cells": [
  {
   "cell_type": "code",
   "execution_count": 1,
   "id": "c828ecc1-07d3-460c-ba48-d0d93948737e",
   "metadata": {},
   "outputs": [],
   "source": [
    "import re\n",
    "import pandas as pd"
   ]
  },
  {
   "cell_type": "code",
   "execution_count": 2,
   "id": "9d512792-cf45-480b-96b7-be5e23eb513b",
   "metadata": {},
   "outputs": [],
   "source": [
    "f=open('WhatsApp Chat with QuNITe 6069.txt', 'r', encoding='utf-8')"
   ]
  },
  {
   "cell_type": "code",
   "execution_count": 3,
   "id": "133b6df2-f558-46f7-ad74-2f3d67154f8c",
   "metadata": {},
   "outputs": [],
   "source": [
    "data=f.read()"
   ]
  },
  {
   "cell_type": "code",
   "execution_count": 4,
   "id": "c6ecce31-8d17-4be1-8d80-6c6533a233e2",
   "metadata": {},
   "outputs": [],
   "source": [
    "pattern = r\"\\d{1,2}/\\d{1,2}/\\d{2,4}, \\d{1,2}:\\d{2} - \"\n",
    "messages = re.split(pattern, data)[1:]\n",
    "dates = re.findall(pattern, data)\n",
    "df = pd.DataFrame({'user_message':messages, 'message_date': dates})\n",
    "df['message_date'] = pd.to_datetime(df['message_date'], format='%d/%m/%Y, %H:%M - ')\n",
    "df.rename(columns={'message_date': 'date'}, inplace=True)\n",
    "\n",
    "users = []\n",
    "messages = []\n",
    "for message in df['user_message']:\n",
    "    entry = re.split(r'([^:]+):\\s', message, maxsplit=1)\n",
    "    if entry[1:]:\n",
    "        users.append(entry[1])\n",
    "        messages.append(entry[2])\n",
    "    else:\n",
    "        users.append('group_notification')\n",
    "        messages.append(entry[0])\n",
    "\n",
    "df['year'] = df['date'].dt.year\n",
    "df['month'] = df['date'].dt.month_name()\n",
    "df['day'] = df['date'].dt.day\n",
    "df['hour'] = df['date'].dt.hour\n",
    "df['minute'] = df['date'].dt.minute\n",
    "df['user'] = users\n",
    "df['message'] = messages\n",
    "df.drop(columns=['user_message'],inplace=True)"
   ]
  },
  {
   "cell_type": "code",
   "execution_count": 19,
   "id": "f3080e0f-3768-4e87-99c2-f2b8d5f0108d",
   "metadata": {},
   "outputs": [
    {
     "data": {
      "text/plain": [
       "0       group_notification\n",
       "1       group_notification\n",
       "2       group_notification\n",
       "3       group_notification\n",
       "4       group_notification\n",
       "               ...        \n",
       "2854               Abhinav\n",
       "2855     Rishabh_24UGME082\n",
       "2856     Rishabh_24UGME082\n",
       "2857       Sandeep sir mme\n",
       "2858       Sandeep sir mme\n",
       "Name: user, Length: 2859, dtype: object"
      ]
     },
     "execution_count": 19,
     "metadata": {},
     "output_type": "execute_result"
    }
   ],
   "source": [
    "df['user']"
   ]
  },
  {
   "cell_type": "code",
   "execution_count": 5,
   "id": "48b22332-38d4-4857-a62a-f1e3f31d04d1",
   "metadata": {},
   "outputs": [],
   "source": [
    "# messages = re.split(pattern, data)[1:]"
   ]
  },
  {
   "cell_type": "code",
   "execution_count": 6,
   "id": "d2d02e56-3dd7-4035-8616-600430d84f3d",
   "metadata": {},
   "outputs": [],
   "source": [
    "# dates = re.findall(pattern, data)"
   ]
  },
  {
   "cell_type": "code",
   "execution_count": 7,
   "id": "25bc72f3-7af8-4bc3-94c4-ac83779db91d",
   "metadata": {},
   "outputs": [],
   "source": [
    "# df = pd.DataFrame({'user_message':messages, 'message_date': dates})"
   ]
  },
  {
   "cell_type": "code",
   "execution_count": 8,
   "id": "13fdec6b-5ea7-45a2-9321-a420bcd6a548",
   "metadata": {},
   "outputs": [],
   "source": [
    "# df['message_date'] = pd.to_datetime(df['message_date'], format='%d/%m/%Y, %H:%M - ')\n",
    "# df.rename(columns={'message_date': 'date'}, inplace=True)"
   ]
  },
  {
   "cell_type": "code",
   "execution_count": 9,
   "id": "1248c797-e85c-4aa6-b124-62edc02d0c62",
   "metadata": {},
   "outputs": [],
   "source": [
    "# df.head()"
   ]
  },
  {
   "cell_type": "code",
   "execution_count": 10,
   "id": "799eb032-3966-4e92-a7ce-50bb8c8b9934",
   "metadata": {},
   "outputs": [],
   "source": [
    "# users = []\n",
    "# messages = []\n",
    "# for message in df['user_message']:\n",
    "#     entry = re.split('([\\w\\W+?]):\\s', message)\n",
    "#     if entry[1:]:\n",
    "#         users.append(entry[1])\n",
    "#         messages.append(entry[2])\n",
    "#     else:\n",
    "#         users.append('group_notification')\n",
    "#         messages.append(entry[0])\n",
    "\n",
    "# df['user'] = users\n",
    "# df['message'] = messages\n",
    "# df.drop(columns=['user_message'],inplace=True)"
   ]
  },
  {
   "cell_type": "code",
   "execution_count": 11,
   "id": "c368ac4b-75cf-447f-ba63-e84cfa512793",
   "metadata": {},
   "outputs": [],
   "source": [
    "# df.head()"
   ]
  },
  {
   "cell_type": "code",
   "execution_count": 12,
   "id": "f1009200-ffd6-441c-b5e2-e8cf16b8b2de",
   "metadata": {},
   "outputs": [],
   "source": [
    "# df['year'] = df['date'].dt.year\n",
    "# df['month'] = df['date'].dt.month_name()\n",
    "# df['day'] = df['date'].dt.day\n",
    "# df['hour'] = df['date'].dt.hour\n",
    "# df['minute'] = df['date'].dt.minute"
   ]
  },
  {
   "cell_type": "code",
   "execution_count": 13,
   "id": "3fd20304-6b57-4ec6-ba9d-ce88018f3a68",
   "metadata": {},
   "outputs": [],
   "source": [
    "# df.head()"
   ]
  },
  {
   "cell_type": "code",
   "execution_count": 14,
   "id": "7235ad0f-a53e-40a9-a56e-7d75fd987872",
   "metadata": {},
   "outputs": [],
   "source": [
    "# print(df.columns)"
   ]
  },
  {
   "cell_type": "code",
   "execution_count": 15,
   "id": "85dcedac-fae2-4fcd-8f87-271d5bf21cf3",
   "metadata": {},
   "outputs": [],
   "source": [
    "# df.sample(12)"
   ]
  },
  {
   "cell_type": "code",
   "execution_count": 16,
   "id": "fa78290e-bdc2-48c5-a7eb-615d31331dba",
   "metadata": {},
   "outputs": [],
   "source": [
    "# print(df.columns.tolist())"
   ]
  },
  {
   "cell_type": "code",
   "execution_count": 17,
   "id": "a3ea2409-fc83-4599-86c6-a92989263c86",
   "metadata": {},
   "outputs": [],
   "source": [
    "# df.columns = df.columns.str.strip()"
   ]
  },
  {
   "cell_type": "code",
   "execution_count": 18,
   "id": "3818e938-d54d-4db6-afe0-b423728c54ff",
   "metadata": {},
   "outputs": [],
   "source": [
    "# user_list = df['User'].unique().tolist()  # match exactly what print(df.columns) shows\n"
   ]
  },
  {
   "cell_type": "code",
   "execution_count": null,
   "id": "79c23985-fba3-4ddc-9bbd-1cd29e619012",
   "metadata": {},
   "outputs": [],
   "source": []
  }
 ],
 "metadata": {
  "kernelspec": {
   "display_name": "Python 3 (ipykernel)",
   "language": "python",
   "name": "python3"
  },
  "language_info": {
   "codemirror_mode": {
    "name": "ipython",
    "version": 3
   },
   "file_extension": ".py",
   "mimetype": "text/x-python",
   "name": "python",
   "nbconvert_exporter": "python",
   "pygments_lexer": "ipython3",
   "version": "3.13.3"
  }
 },
 "nbformat": 4,
 "nbformat_minor": 5
}
